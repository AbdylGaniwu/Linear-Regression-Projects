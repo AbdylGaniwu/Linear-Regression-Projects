{
 "cells": [
  {
   "cell_type": "markdown",
   "id": "75aaaf00-ff92-49a7-88a1-0d6c0e8ecbde",
   "metadata": {},
   "source": [
    "# Linear Regression"
   ]
  },
  {
   "cell_type": "code",
   "execution_count": null,
   "id": "74105f37-549d-4bf1-9a65-5156e871ab69",
   "metadata": {},
   "outputs": [],
   "source": []
  },
  {
   "cell_type": "code",
   "execution_count": 54,
   "id": "e99ee056-71b9-48fb-9868-bf49b93237d5",
   "metadata": {},
   "outputs": [],
   "source": [
    "import pandas as pd\n",
    "import numpy as np\n",
    "import matplotlib.pyplot as plt\n",
    "import seaborn as sns\n",
    "import statsmodels.api as sm"
   ]
  },
  {
   "cell_type": "code",
   "execution_count": null,
   "id": "3150d54e-4ede-497e-a3d3-61c6a8a04414",
   "metadata": {},
   "outputs": [],
   "source": []
  },
  {
   "cell_type": "markdown",
   "id": "46331fd2-cda3-43bc-82d9-7086f0f34bea",
   "metadata": {},
   "source": [
    "# Load the Data"
   ]
  },
  {
   "cell_type": "code",
   "execution_count": 4,
   "id": "632a7a1e-99a7-4ea1-9908-ddea5f907eac",
   "metadata": {},
   "outputs": [
    {
     "data": {
      "text/html": [
       "<div>\n",
       "<style scoped>\n",
       "    .dataframe tbody tr th:only-of-type {\n",
       "        vertical-align: middle;\n",
       "    }\n",
       "\n",
       "    .dataframe tbody tr th {\n",
       "        vertical-align: top;\n",
       "    }\n",
       "\n",
       "    .dataframe thead th {\n",
       "        text-align: right;\n",
       "    }\n",
       "</style>\n",
       "<table border=\"1\" class=\"dataframe\">\n",
       "  <thead>\n",
       "    <tr style=\"text-align: right;\">\n",
       "      <th></th>\n",
       "      <th>score</th>\n",
       "      <th>completed</th>\n",
       "      <th>lesson</th>\n",
       "    </tr>\n",
       "  </thead>\n",
       "  <tbody>\n",
       "    <tr>\n",
       "      <th>0</th>\n",
       "      <td>82.7</td>\n",
       "      <td>35</td>\n",
       "      <td>Lesson A</td>\n",
       "    </tr>\n",
       "    <tr>\n",
       "      <th>1</th>\n",
       "      <td>65.2</td>\n",
       "      <td>31</td>\n",
       "      <td>Lesson A</td>\n",
       "    </tr>\n",
       "    <tr>\n",
       "      <th>2</th>\n",
       "      <td>55.3</td>\n",
       "      <td>33</td>\n",
       "      <td>Lesson A</td>\n",
       "    </tr>\n",
       "    <tr>\n",
       "      <th>3</th>\n",
       "      <td>28.8</td>\n",
       "      <td>25</td>\n",
       "      <td>Lesson B</td>\n",
       "    </tr>\n",
       "    <tr>\n",
       "      <th>4</th>\n",
       "      <td>31.2</td>\n",
       "      <td>18</td>\n",
       "      <td>Lesson B</td>\n",
       "    </tr>\n",
       "  </tbody>\n",
       "</table>\n",
       "</div>"
      ],
      "text/plain": [
       "   score  completed    lesson\n",
       "0   82.7         35  Lesson A\n",
       "1   65.2         31  Lesson A\n",
       "2   55.3         33  Lesson A\n",
       "3   28.8         25  Lesson B\n",
       "4   31.2         18  Lesson B"
      ]
     },
     "execution_count": 4,
     "metadata": {},
     "output_type": "execute_result"
    }
   ],
   "source": [
    "df = pd.read_csv('learners_dataset.csv')\n",
    "df.head()"
   ]
  },
  {
   "cell_type": "code",
   "execution_count": null,
   "id": "0900e32f-e09e-407e-9cde-788a61ab7c3a",
   "metadata": {},
   "outputs": [],
   "source": []
  },
  {
   "cell_type": "markdown",
   "id": "e0ddfb51-e47e-4a1c-84f4-521b92a6f966",
   "metadata": {},
   "source": [
    "# Data Assessment:"
   ]
  },
  {
   "cell_type": "markdown",
   "id": "4ffa2d86-658e-4de8-993b-2567ecae41a7",
   "metadata": {},
   "source": [
    "### a) Types of Data:"
   ]
  },
  {
   "cell_type": "code",
   "execution_count": 5,
   "id": "15e68375-1e22-4620-b1f0-c144a28e52a9",
   "metadata": {},
   "outputs": [
    {
     "name": "stdout",
     "output_type": "stream",
     "text": [
      "<class 'pandas.core.frame.DataFrame'>\n",
      "RangeIndex: 100 entries, 0 to 99\n",
      "Data columns (total 3 columns):\n",
      " #   Column     Non-Null Count  Dtype  \n",
      "---  ------     --------------  -----  \n",
      " 0   score      100 non-null    float64\n",
      " 1   completed  100 non-null    int64  \n",
      " 2   lesson     100 non-null    object \n",
      "dtypes: float64(1), int64(1), object(1)\n",
      "memory usage: 2.5+ KB\n"
     ]
    }
   ],
   "source": [
    "df.info()"
   ]
  },
  {
   "cell_type": "code",
   "execution_count": null,
   "id": "6607079c-4124-47b7-86b2-528aa54b0429",
   "metadata": {},
   "outputs": [],
   "source": []
  },
  {
   "cell_type": "markdown",
   "id": "209e0fd6-0e01-446e-b050-c462a37db924",
   "metadata": {},
   "source": [
    "# b) Checking for total number of missing Values:"
   ]
  },
  {
   "cell_type": "code",
   "execution_count": 9,
   "id": "c5bac3a5-d239-43a5-a7a1-8424b2260658",
   "metadata": {},
   "outputs": [
    {
     "data": {
      "text/plain": [
       "score        0\n",
       "completed    0\n",
       "lesson       0\n",
       "dtype: int64"
      ]
     },
     "execution_count": 9,
     "metadata": {},
     "output_type": "execute_result"
    }
   ],
   "source": [
    "df.isnull().sum()"
   ]
  },
  {
   "cell_type": "code",
   "execution_count": null,
   "id": "15f0f061-55ca-4217-bd0b-81f9424c896d",
   "metadata": {},
   "outputs": [],
   "source": []
  },
  {
   "cell_type": "markdown",
   "id": "4015077c-669c-4fa2-889c-0848b31589e9",
   "metadata": {},
   "source": [
    "## c) Checking for total number of duplicate rows:"
   ]
  },
  {
   "cell_type": "code",
   "execution_count": 11,
   "id": "72fb4d0e-bad5-411a-9e76-b55516bef074",
   "metadata": {},
   "outputs": [
    {
     "data": {
      "text/plain": [
       "0"
      ]
     },
     "execution_count": 11,
     "metadata": {},
     "output_type": "execute_result"
    }
   ],
   "source": [
    "df.duplicated().sum()"
   ]
  },
  {
   "cell_type": "code",
   "execution_count": null,
   "id": "649b55fa-2790-4b49-b393-6008e121869b",
   "metadata": {},
   "outputs": [],
   "source": []
  },
  {
   "cell_type": "code",
   "execution_count": null,
   "id": "563bda59-5b9f-4079-acc5-f6cff03248f2",
   "metadata": {},
   "outputs": [],
   "source": []
  },
  {
   "cell_type": "markdown",
   "id": "e540d65d-293b-47c7-b3d2-df2db27c715d",
   "metadata": {},
   "source": [
    "# Linear Regression:"
   ]
  },
  {
   "cell_type": "markdown",
   "id": "d2606685-766c-4c57-ae68-cdd3814ca08d",
   "metadata": {},
   "source": [
    "### Model the relationship between quiz `score` and number of `completed` content items\n",
    "### Scatter plot of score vs completed:"
   ]
  },
  {
   "cell_type": "code",
   "execution_count": 12,
   "id": "c788de68-694f-4c36-81de-95c5276d6ab2",
   "metadata": {},
   "outputs": [],
   "source": [
    "### Is there any relationship between these two variables, and does it appear to be linear"
   ]
  },
  {
   "cell_type": "code",
   "execution_count": 31,
   "id": "4ef70e66-5084-447a-9346-7afa6cb2d802",
   "metadata": {},
   "outputs": [
    {
     "data": {
      "image/png": "[encoded data removed]",
      "text/plain": [
       "<Figure size 640x480 with 1 Axes>"
      ]
     },
     "metadata": {},
     "output_type": "display_data"
    },
    {
     "data": {
      "text/plain": [
       "<Figure size 640x480 with 0 Axes>"
      ]
     },
     "metadata": {},
     "output_type": "display_data"
    }
   ],
   "source": [
    "plt.scatter(df.completed, df.score)\n",
    "plt.show()\n",
    "plt.clf()"
   ]
  },
  {
   "cell_type": "markdown",
   "id": "12bf2343-e6cb-4ffc-ba73-d3d577f4ca3c",
   "metadata": {},
   "source": [
    "#### Interpretation: There appears to be a positive correlation between the completed and score variables. As the values of completed increase, the values of score also tend to increase. This suggests that higher completion rates are associated with higher scores."
   ]
  },
  {
   "cell_type": "code",
   "execution_count": null,
   "id": "4e02ba80-62ad-4693-8375-621e4cf33ecd",
   "metadata": {},
   "outputs": [],
   "source": []
  },
  {
   "cell_type": "code",
   "execution_count": null,
   "id": "0e51eb56-e35b-4340-99e8-8da4947bb974",
   "metadata": {},
   "outputs": [],
   "source": []
  },
  {
   "cell_type": "markdown",
   "id": "5880cc43-8123-4418-8041-f4675a1bbf45",
   "metadata": {},
   "source": [
    "# Linear Regression to predict `score` based on prior lessons `completed`:"
   ]
  },
  {
   "cell_type": "code",
   "execution_count": 32,
   "id": "1d901e50-f104-4522-a235-a917e6eea745",
   "metadata": {},
   "outputs": [
    {
     "name": "stdout",
     "output_type": "stream",
     "text": [
      "Intercept    13.214113\n",
      "completed     1.306826\n",
      "dtype: float64\n"
     ]
    }
   ],
   "source": [
    "model = sm.OLS.from_formula('score ~ completed', data = df)\n",
    "results = model.fit()\n",
    "print(results.params)"
   ]
  },
  {
   "cell_type": "code",
   "execution_count": null,
   "id": "6455a901-1892-486c-b387-84c15f15cd49",
   "metadata": {},
   "outputs": [],
   "source": []
  },
  {
   "cell_type": "markdown",
   "id": "6723f95e-35c3-426e-b71c-27986bd68ee0",
   "metadata": {},
   "source": [
    "#### Conslusion: The Linear Regression analysis suggest a statistically significant positive relationship between the number of `completed` tasks and the `scores` achieved.\n",
    "#### i) Intercept interpretation:\n",
    "#### A learner who has previously `completed` 0 content items is expected to earn a quiz `score` of 13.2 points.\n",
    "\n",
    "#### ii) Slope interpretation:\n",
    "#### Students who have `completed` one additional prior content item are expected to `score` 1.3 points higher on the quiz."
   ]
  },
  {
   "cell_type": "code",
   "execution_count": null,
   "id": "53569732-843f-47ba-97ca-9a97c06d084c",
   "metadata": {},
   "outputs": [],
   "source": []
  },
  {
   "cell_type": "code",
   "execution_count": null,
   "id": "da8633c5-c4b5-4e0b-853a-5a7410e789b6",
   "metadata": {},
   "outputs": [],
   "source": []
  },
  {
   "cell_type": "markdown",
   "id": "febf8740-ec99-4959-8a34-39a557e28acf",
   "metadata": {},
   "source": [
    "# Plotting scatter plot with the line on top:"
   ]
  },
  {
   "cell_type": "code",
   "execution_count": 33,
   "id": "a0a9eed9-f682-44b8-b54b-a8525f815b18",
   "metadata": {},
   "outputs": [
    {
     "data": {
      "image/png": "[encoded data removed]",
      "text/plain": [
       "<Figure size 640x480 with 1 Axes>"
      ]
     },
     "metadata": {},
     "output_type": "display_data"
    },
    {
     "data": {
      "text/plain": [
       "<Figure size 640x480 with 0 Axes>"
      ]
     },
     "metadata": {},
     "output_type": "display_data"
    }
   ],
   "source": [
    "plt.scatter(df.completed, df.score)\n",
    "plt.plot(df.completed, results.predict(df))\n",
    "plt.show()\n",
    "plt.clf()"
   ]
  },
  {
   "cell_type": "code",
   "execution_count": null,
   "id": "dd783b84-9eb1-478e-ad6a-d5359856aa58",
   "metadata": {},
   "outputs": [],
   "source": []
  },
  {
   "cell_type": "code",
   "execution_count": null,
   "id": "cb0b4598-6ae6-4d49-8e3d-70536fb8623a",
   "metadata": {},
   "outputs": [],
   "source": []
  },
  {
   "cell_type": "markdown",
   "id": "1762f0a3-adb5-47e5-9c10-ff9f84c4755a",
   "metadata": {},
   "source": [
    "## Model to calculate the predicted quiz score for a learner who has previously completed 20 other content items."
   ]
  },
  {
   "cell_type": "code",
   "execution_count": 34,
   "id": "a396338d-5a73-49ee-9bf1-3398bc344ae6",
   "metadata": {},
   "outputs": [
    {
     "name": "stdout",
     "output_type": "stream",
     "text": [
      "predicted score for learner who has completed 20 prior lessons:  0    39.350625\n",
      "dtype: float64\n"
     ]
    }
   ],
   "source": [
    "newdata = {'completed':[20]}\n",
    "pred20 = results.predict(newdata)\n",
    "print('predicted score for learner who has completed 20 prior lessons: ', pred20)"
   ]
  },
  {
   "cell_type": "code",
   "execution_count": null,
   "id": "beca5448-1449-4853-86b6-c4ecc821d4b8",
   "metadata": {},
   "outputs": [],
   "source": []
  },
  {
   "cell_type": "code",
   "execution_count": null,
   "id": "72ec3db5-0802-476a-99f1-24880b89439a",
   "metadata": {},
   "outputs": [],
   "source": []
  },
  {
   "cell_type": "markdown",
   "id": "4c117876-3efe-4d77-b7dc-6554a436bcea",
   "metadata": {},
   "source": [
    "## Calculating the fitted values for the model"
   ]
  },
  {
   "cell_type": "code",
   "execution_count": 37,
   "id": "4fb6fbcd-2193-4398-9b93-331ae8ae37ef",
   "metadata": {},
   "outputs": [],
   "source": [
    "fitted_values = results.predict(df)"
   ]
  },
  {
   "cell_type": "code",
   "execution_count": null,
   "id": "afa2cd9a-a530-40f7-bc8d-97bfc374843b",
   "metadata": {},
   "outputs": [],
   "source": []
  },
  {
   "cell_type": "markdown",
   "id": "2c4819e7-7ccd-4e87-a379-06667a57b185",
   "metadata": {},
   "source": [
    "# Calculate the residuals for the model"
   ]
  },
  {
   "cell_type": "code",
   "execution_count": 39,
   "id": "94e497eb-524b-40ff-beeb-aa095833ee4b",
   "metadata": {},
   "outputs": [],
   "source": [
    "residuals = df.score - fitted_values"
   ]
  },
  {
   "cell_type": "code",
   "execution_count": null,
   "id": "9e1f84a9-c205-4553-a3ab-ca18bfb6f8f1",
   "metadata": {},
   "outputs": [],
   "source": []
  },
  {
   "cell_type": "markdown",
   "id": "f9aba1f8-c294-4a28-ae26-751d59574ed7",
   "metadata": {},
   "source": [
    "# Check the normality assumption for linear regression"
   ]
  },
  {
   "cell_type": "code",
   "execution_count": 40,
   "id": "92ab66d3-8f48-4da0-958b-31e15d8f2a59",
   "metadata": {},
   "outputs": [],
   "source": [
    "# by plotting a histogram of the residuals"
   ]
  },
  {
   "cell_type": "code",
   "execution_count": 46,
   "id": "cc1dd6cf-2cdd-4b32-a511-d019fb21bdc5",
   "metadata": {},
   "outputs": [
    {
     "data": {
      "image/png": "[encoded data removed]",
      "text/plain": [
       "<Figure size 640x480 with 1 Axes>"
      ]
     },
     "metadata": {},
     "output_type": "display_data"
    },
    {
     "data": {
      "text/plain": [
       "<Figure size 640x480 with 0 Axes>"
      ]
     },
     "metadata": {},
     "output_type": "display_data"
    }
   ],
   "source": [
    "plt.hist(residuals)\n",
    "plt.show()\n",
    "plt.clf()"
   ]
  },
  {
   "cell_type": "markdown",
   "id": "463b57ba-cfde-4894-8f53-437be4f2b265",
   "metadata": {},
   "source": [
    "### Conclusion: The residuals appear to be approximately normally distributed. Therefore, the normal assumption is met."
   ]
  },
  {
   "cell_type": "code",
   "execution_count": null,
   "id": "7cef8fe1-06eb-47b6-b90d-58008c8dce4a",
   "metadata": {},
   "outputs": [],
   "source": []
  },
  {
   "cell_type": "code",
   "execution_count": null,
   "id": "3ed66828-9b49-4e09-938d-b963c4928c35",
   "metadata": {},
   "outputs": [],
   "source": []
  },
  {
   "cell_type": "markdown",
   "id": "35550fba-0b78-4fd6-95d9-44c75ce24366",
   "metadata": {},
   "source": [
    "# Check the homoscedasticity assumption for linear regression"
   ]
  },
  {
   "cell_type": "code",
   "execution_count": 47,
   "id": "e6917030-0c17-412b-ba8a-2a7d908ba7fe",
   "metadata": {},
   "outputs": [
    {
     "data": {
      "image/png": "[encoded data removed]",
      "text/plain": [
       "<Figure size 640x480 with 1 Axes>"
      ]
     },
     "metadata": {},
     "output_type": "display_data"
    },
    {
     "data": {
      "text/plain": [
       "<Figure size 640x480 with 0 Axes>"
      ]
     },
     "metadata": {},
     "output_type": "display_data"
    }
   ],
   "source": [
    "plt.scatter(fitted_values, residuals)\n",
    "plt.show()\n",
    "plt.clf()"
   ]
  },
  {
   "cell_type": "markdown",
   "id": "ac053e81-7a67-4043-9d73-9e937d624a85",
   "metadata": {},
   "source": [
    "### Conclusion: There is no pattern in this plot; the homoscedasticity assumption is met."
   ]
  },
  {
   "cell_type": "markdown",
   "id": "adec091d-01bb-466f-a4e5-1434c9e285b7",
   "metadata": {},
   "source": []
  },
  {
   "cell_type": "code",
   "execution_count": null,
   "id": "226ea35f-3687-40f7-8a18-22a8b0e18b3b",
   "metadata": {},
   "outputs": [],
   "source": []
  },
  {
   "cell_type": "markdown",
   "id": "9f6ee615-94c0-4acd-a6bc-bfd0ec218348",
   "metadata": {},
   "source": [
    "# Do learners who take lesson A or B perform better on the quiz?\n",
    "## Creating a boxplot of score vs lesson:"
   ]
  },
  {
   "cell_type": "code",
   "execution_count": 49,
   "id": "eea7e666-c5d4-40cc-bda5-ba8cd6072fa8",
   "metadata": {},
   "outputs": [
    {
     "data": {
      "image/png": "[encoded data removed]",
      "text/plain": [
       "<Figure size 640x480 with 1 Axes>"
      ]
     },
     "metadata": {},
     "output_type": "display_data"
    },
    {
     "data": {
      "text/plain": [
       "<Figure size 640x480 with 0 Axes>"
      ]
     },
     "metadata": {},
     "output_type": "display_data"
    }
   ],
   "source": [
    "sns.boxplot(x = 'lesson', y = 'score', data = df)\n",
    "plt.show()\n",
    "plt.clf()"
   ]
  },
  {
   "cell_type": "markdown",
   "id": "73175bb5-591b-47e3-a19f-1d66678239f3",
   "metadata": {},
   "source": [
    "### Conclusion: The overall trend suggests that Lesson A may be more effective in helping learners achieve higher scores, but the variability indicates that not all learners benefited equally."
   ]
  },
  {
   "cell_type": "code",
   "execution_count": null,
   "id": "73b98bbd-d8cf-4eff-8d20-36e064a0a099",
   "metadata": {},
   "outputs": [],
   "source": []
  },
  {
   "cell_type": "code",
   "execution_count": null,
   "id": "dd5bae33-7aea-4378-8ef9-eb342c8d6fe2",
   "metadata": {},
   "outputs": [],
   "source": []
  },
  {
   "cell_type": "markdown",
   "id": "80a2f14a-b8c3-4a13-8d04-718490e076a8",
   "metadata": {},
   "source": [
    "# Fit a Linear Regression to predict score based on which lesson they took"
   ]
  },
  {
   "cell_type": "code",
   "execution_count": 50,
   "id": "85e1659d-719c-4454-9743-16d6c6c043b2",
   "metadata": {},
   "outputs": [
    {
     "name": "stdout",
     "output_type": "stream",
     "text": [
      "Intercept             59.220\n",
      "lesson[T.Lesson B]   -11.642\n",
      "dtype: float64\n"
     ]
    }
   ],
   "source": [
    "model = sm.OLS.from_formula('score ~ lesson', df)\n",
    "results = model.fit()\n",
    "print(results.params)"
   ]
  },
  {
   "cell_type": "code",
   "execution_count": null,
   "id": "249af396-1ef1-4783-ae81-97eac5bb10fb",
   "metadata": {},
   "outputs": [],
   "source": []
  },
  {
   "cell_type": "markdown",
   "id": "c4e8eb2a-d4d0-48f8-a945-6f6309953b58",
   "metadata": {},
   "source": [
    "### Conclusion: The linear regression analysis suggests that the lesson taken has a significant impact on learner scores. Specifically, learners who took Lesson B scored lower on average compared to those who took Lesson A.\n",
    "### Specifically, learners who took Lesson B are expected to score approximately 11.64 points lower than those who took Lesson A, holding all else constant."
   ]
  },
  {
   "cell_type": "code",
   "execution_count": null,
   "id": "320a63df-166f-48d5-84d2-b275646363bf",
   "metadata": {},
   "outputs": [],
   "source": []
  },
  {
   "cell_type": "code",
   "execution_count": null,
   "id": "6aa5315b-bd8b-4683-bd3e-cf8086511a0d",
   "metadata": {},
   "outputs": [],
   "source": []
  },
  {
   "cell_type": "markdown",
   "id": "170c7e8d-b361-4363-8454-1472e94f7654",
   "metadata": {},
   "source": [
    "# Calculating mean quiz `scores` for learners who took `lesson A & B`:"
   ]
  },
  {
   "cell_type": "code",
   "execution_count": 51,
   "id": "afcca96b-f328-4c8f-b366-f4ca4205000e",
   "metadata": {},
   "outputs": [
    {
     "name": "stdout",
     "output_type": "stream",
     "text": [
      "Mean score (A):  59.220000000000006\n",
      "Mean score (B):  47.578\n",
      "Mean score difference:  11.642000000000003\n"
     ]
    }
   ],
   "source": [
    "mean_score_lessonA = np.mean(df.score[df.lesson == 'Lesson A'])\n",
    "mean_score_lessonB = np.mean(df.score[df.lesson == 'Lesson B'])\n",
    "print('Mean score (A): ', mean_score_lessonA)\n",
    "print('Mean score (B): ', mean_score_lessonB)\n",
    "print('Mean score difference: ', mean_score_lessonA - mean_score_lessonB)"
   ]
  },
  {
   "cell_type": "code",
   "execution_count": null,
   "id": "785b282b-7504-42e8-bb69-e9b3b02900ff",
   "metadata": {},
   "outputs": [],
   "source": []
  },
  {
   "cell_type": "markdown",
   "id": "65edfe6a-eb42-4248-9318-841479b70bf3",
   "metadata": {},
   "source": [
    "### Conclusion: The results highlight a significant difference in performance between the two lessons. Learners who took Lesson A performed better on average compared to those who took Lesson B. This information can be useful for educators to evaluate the effectiveness of the lessons and consider potential improvements for Lesson B to enhance learner outcomes."
   ]
  },
  {
   "cell_type": "code",
   "execution_count": null,
   "id": "a6d85a04-5c6f-4e7f-a587-1bb276ee97d9",
   "metadata": {},
   "outputs": [],
   "source": []
  },
  {
   "cell_type": "code",
   "execution_count": null,
   "id": "e22ad426-bbd1-4ef9-ad7c-c51a4429e320",
   "metadata": {},
   "outputs": [],
   "source": []
  },
  {
   "cell_type": "markdown",
   "id": "d14f4452-a7aa-41ed-8a70-833476d4073b",
   "metadata": {},
   "source": [
    "# Using `sns.lmplot()` to plot `score` vs. `completed` colored by `lesson`"
   ]
  },
  {
   "cell_type": "code",
   "execution_count": 53,
   "id": "eb11ca6b-f2b4-452f-aa13-27c20e1684fd",
   "metadata": {},
   "outputs": [
    {
     "data": {
      "image/png": "[encoded data removed]",
      "text/plain": [
       "<Figure size 611.5x500 with 1 Axes>"
      ]
     },
     "metadata": {},
     "output_type": "display_data"
    }
   ],
   "source": [
    "sns.lmplot(x = 'completed', y = 'score', hue = 'lesson', data = df)\n",
    "plt.show()"
   ]
  },
  {
   "cell_type": "markdown",
   "id": "900f87f0-1024-496a-add0-337a714c715c",
   "metadata": {},
   "source": [
    "## Conclusion: The plot effectively illustrates the relationship between task completion and quiz scores, highlighting that learners who completed more tasks generally performed better. Additionally, it suggests that Lesson A is more effective in achieving higher scores compared to Lesson B, as indicated by the higher regression line and tighter clustering of scores. "
   ]
  },
  {
   "cell_type": "code",
   "execution_count": null,
   "id": "d4a7a315-c0a3-40b0-a206-5f13fa5e2f22",
   "metadata": {},
   "outputs": [],
   "source": []
  },
  {
   "cell_type": "code",
   "execution_count": null,
   "id": "10686917-9f1a-41e4-925d-cfb7344cdd2e",
   "metadata": {},
   "outputs": [],
   "source": []
  }
 ],
 "metadata": {
  "kernelspec": {
   "display_name": "Python 3 (ipykernel)",
   "language": "python",
   "name": "python3"
  },
  "language_info": {
   "codemirror_mode": {
    "name": "ipython",
    "version": 3
   },
   "file_extension": ".py",
   "mimetype": "text/x-python",
   "name": "python",
   "nbconvert_exporter": "python",
   "pygments_lexer": "ipython3",
   "version": "3.12.3"
  }
 },
 "nbformat": 4,
 "nbformat_minor": 5
}
