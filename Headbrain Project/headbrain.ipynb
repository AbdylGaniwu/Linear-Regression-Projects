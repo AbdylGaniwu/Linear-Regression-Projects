{
 "cells": [
  {
   "cell_type": "markdown",
   "id": "cc5ce9f2-51ca-4273-9a61-54e34b381446",
   "metadata": {},
   "source": [
    "# Linear Regression Analysis for Predicting Babies Brain Weight"
   ]
  },
  {
   "cell_type": "markdown",
   "id": "ff753408-a286-4600-b474-12445742e45c",
   "metadata": {},
   "source": [
    "### The project applies linear regression analysis to predict brain weight based on physiological characteristics such as `head size`, `gender`, and `age range`. The project aims to provide insights into how these factors correlate with brain weight and can be used in fields such as medical research, forensic science, and anthropometry."
   ]
  },
  {
   "cell_type": "code",
   "execution_count": null,
   "id": "c5efc95d-6400-467f-858b-fc12b02f5535",
   "metadata": {},
   "outputs": [],
   "source": []
  },
  {
   "cell_type": "code",
   "execution_count": 87,
   "id": "7f467e96-983c-40c9-b2a5-37f2ff4744cf",
   "metadata": {},
   "outputs": [],
   "source": [
    "import numpy as np\n",
    "import pandas as pd\n",
    "import matplotlib.pyplot as plt\n",
    "import seaborn as sns\n",
    "import statsmodels.api as sm"
   ]
  },
  {
   "cell_type": "markdown",
   "id": "ed6afa35-73f3-4797-abcd-d417d76cd18b",
   "metadata": {},
   "source": [
    "# Load the Dataset:"
   ]
  },
  {
   "cell_type": "code",
   "execution_count": 88,
   "id": "e8d94b54-8c94-4836-8b7d-5cc08a99737e",
   "metadata": {},
   "outputs": [
    {
     "data": {
      "text/html": [
       "<div>\n",
       "<style scoped>\n",
       "    .dataframe tbody tr th:only-of-type {\n",
       "        vertical-align: middle;\n",
       "    }\n",
       "\n",
       "    .dataframe tbody tr th {\n",
       "        vertical-align: top;\n",
       "    }\n",
       "\n",
       "    .dataframe thead th {\n",
       "        text-align: right;\n",
       "    }\n",
       "</style>\n",
       "<table border=\"1\" class=\"dataframe\">\n",
       "  <thead>\n",
       "    <tr style=\"text-align: right;\">\n",
       "      <th></th>\n",
       "      <th>Gender</th>\n",
       "      <th>Age Range</th>\n",
       "      <th>Head Size(cm^3)</th>\n",
       "      <th>Brain Weight(grams)</th>\n",
       "    </tr>\n",
       "  </thead>\n",
       "  <tbody>\n",
       "    <tr>\n",
       "      <th>0</th>\n",
       "      <td>1</td>\n",
       "      <td>1</td>\n",
       "      <td>4512</td>\n",
       "      <td>1530</td>\n",
       "    </tr>\n",
       "    <tr>\n",
       "      <th>1</th>\n",
       "      <td>1</td>\n",
       "      <td>1</td>\n",
       "      <td>3738</td>\n",
       "      <td>1297</td>\n",
       "    </tr>\n",
       "    <tr>\n",
       "      <th>2</th>\n",
       "      <td>1</td>\n",
       "      <td>1</td>\n",
       "      <td>4261</td>\n",
       "      <td>1335</td>\n",
       "    </tr>\n",
       "    <tr>\n",
       "      <th>3</th>\n",
       "      <td>1</td>\n",
       "      <td>1</td>\n",
       "      <td>3777</td>\n",
       "      <td>1282</td>\n",
       "    </tr>\n",
       "    <tr>\n",
       "      <th>4</th>\n",
       "      <td>1</td>\n",
       "      <td>1</td>\n",
       "      <td>4177</td>\n",
       "      <td>1590</td>\n",
       "    </tr>\n",
       "  </tbody>\n",
       "</table>\n",
       "</div>"
      ],
      "text/plain": [
       "   Gender  Age Range  Head Size(cm^3)  Brain Weight(grams)\n",
       "0       1          1             4512                 1530\n",
       "1       1          1             3738                 1297\n",
       "2       1          1             4261                 1335\n",
       "3       1          1             3777                 1282\n",
       "4       1          1             4177                 1590"
      ]
     },
     "execution_count": 88,
     "metadata": {},
     "output_type": "execute_result"
    }
   ],
   "source": [
    "df = pd.read_csv('headbrain_data.csv')\n",
    "df.head()"
   ]
  },
  {
   "cell_type": "code",
   "execution_count": null,
   "id": "c8ec634c-9d23-44f2-8fd9-d2afd8eed7f3",
   "metadata": {},
   "outputs": [],
   "source": []
  },
  {
   "cell_type": "code",
   "execution_count": null,
   "id": "484fa8a7-62ba-4b8b-a45f-882dcb33f913",
   "metadata": {},
   "outputs": [],
   "source": []
  },
  {
   "cell_type": "markdown",
   "id": "491ce233-227a-41ff-be50-5e615a3557dd",
   "metadata": {},
   "source": [
    "# Define Independent and Dependent Variables:"
   ]
  },
  {
   "cell_type": "markdown",
   "id": "b1234c42-2bc6-4a5e-ae2d-cf4a484f4f3f",
   "metadata": {},
   "source": [
    "#### X (Independent Variables): Gender, Age Range, Head Size\n",
    "#### Y (Dependent Variable): Brain Weight"
   ]
  },
  {
   "cell_type": "code",
   "execution_count": 89,
   "id": "279ef2e6-7ef3-480e-b633-89fc85582402",
   "metadata": {},
   "outputs": [
    {
     "data": {
      "text/html": [
       "<div>\n",
       "<style scoped>\n",
       "    .dataframe tbody tr th:only-of-type {\n",
       "        vertical-align: middle;\n",
       "    }\n",
       "\n",
       "    .dataframe tbody tr th {\n",
       "        vertical-align: top;\n",
       "    }\n",
       "\n",
       "    .dataframe thead th {\n",
       "        text-align: right;\n",
       "    }\n",
       "</style>\n",
       "<table border=\"1\" class=\"dataframe\">\n",
       "  <thead>\n",
       "    <tr style=\"text-align: right;\">\n",
       "      <th></th>\n",
       "      <th>Gender</th>\n",
       "      <th>Age Range</th>\n",
       "      <th>Head Size(cm^3)</th>\n",
       "    </tr>\n",
       "  </thead>\n",
       "  <tbody>\n",
       "    <tr>\n",
       "      <th>0</th>\n",
       "      <td>1</td>\n",
       "      <td>1</td>\n",
       "      <td>4512</td>\n",
       "    </tr>\n",
       "    <tr>\n",
       "      <th>1</th>\n",
       "      <td>1</td>\n",
       "      <td>1</td>\n",
       "      <td>3738</td>\n",
       "    </tr>\n",
       "    <tr>\n",
       "      <th>2</th>\n",
       "      <td>1</td>\n",
       "      <td>1</td>\n",
       "      <td>4261</td>\n",
       "    </tr>\n",
       "    <tr>\n",
       "      <th>3</th>\n",
       "      <td>1</td>\n",
       "      <td>1</td>\n",
       "      <td>3777</td>\n",
       "    </tr>\n",
       "    <tr>\n",
       "      <th>4</th>\n",
       "      <td>1</td>\n",
       "      <td>1</td>\n",
       "      <td>4177</td>\n",
       "    </tr>\n",
       "  </tbody>\n",
       "</table>\n",
       "</div>"
      ],
      "text/plain": [
       "   Gender  Age Range  Head Size(cm^3)\n",
       "0       1          1             4512\n",
       "1       1          1             3738\n",
       "2       1          1             4261\n",
       "3       1          1             3777\n",
       "4       1          1             4177"
      ]
     },
     "execution_count": 89,
     "metadata": {},
     "output_type": "execute_result"
    }
   ],
   "source": [
    "# Independent variables = x\n",
    "x = df[['Gender', 'Age Range', 'Head Size(cm^3)']]\n",
    "x.head()"
   ]
  },
  {
   "cell_type": "code",
   "execution_count": null,
   "id": "20a3d9e5-d17c-4af6-9e6c-3b2b61c71e2c",
   "metadata": {},
   "outputs": [],
   "source": []
  },
  {
   "cell_type": "code",
   "execution_count": 24,
   "id": "1b6d430d-8543-4fe5-b14b-27a65e8a555c",
   "metadata": {},
   "outputs": [
    {
     "data": {
      "text/plain": [
       "0    1530\n",
       "1    1297\n",
       "2    1335\n",
       "3    1282\n",
       "4    1590\n",
       "Name: Brain Weight(grams), dtype: int64"
      ]
     },
     "execution_count": 24,
     "metadata": {},
     "output_type": "execute_result"
    }
   ],
   "source": [
    "# Dependent variable = y\n",
    "y = df['Brain Weight(grams)']\n",
    "y.head()"
   ]
  },
  {
   "cell_type": "code",
   "execution_count": null,
   "id": "9372c107-e192-49bf-a593-ba4156d126eb",
   "metadata": {},
   "outputs": [],
   "source": []
  },
  {
   "cell_type": "code",
   "execution_count": null,
   "id": "803f0f36-2a8a-488a-9eaa-375c3d4dbf1a",
   "metadata": {},
   "outputs": [],
   "source": []
  },
  {
   "cell_type": "markdown",
   "id": "ead8a266-93d8-4215-a8ad-1965af584ec0",
   "metadata": {},
   "source": [
    "# Adding a Constant (Intercept):"
   ]
  },
  {
   "cell_type": "code",
   "execution_count": 90,
   "id": "4d85c7c9-0e9d-45a7-bcbe-8ee066d93430",
   "metadata": {},
   "outputs": [],
   "source": [
    "# Add a constant (intercept) to the independent variables\n",
    "x = sm.add_constant(x)"
   ]
  },
  {
   "cell_type": "code",
   "execution_count": null,
   "id": "28226c2e-ceee-4366-84ec-a24fd48391ed",
   "metadata": {},
   "outputs": [],
   "source": []
  },
  {
   "cell_type": "markdown",
   "id": "aa5337b3-445f-4e54-bb1d-606548fbe9c5",
   "metadata": {},
   "source": [
    "# Fit the Linear Regression Model using `statsmodels`:"
   ]
  },
  {
   "cell_type": "code",
   "execution_count": 91,
   "id": "96422fb3-f041-4f80-a78a-bfc9a88ed7e5",
   "metadata": {},
   "outputs": [
    {
     "name": "stdout",
     "output_type": "stream",
     "text": [
      "Intercept    232.281405\n",
      "x[0]         232.281405\n",
      "x[1]         -22.543254\n",
      "x[2]         -23.968445\n",
      "x[3]           0.244212\n",
      "dtype: float64\n"
     ]
    }
   ],
   "source": [
    "# Create the model and fit it to the data\n",
    "model = sm.OLS.from_formula('y ~ x', df)\n",
    "results = model.fit()\n",
    "print(results.params)"
   ]
  },
  {
   "cell_type": "code",
   "execution_count": null,
   "id": "887d8860-8ae5-47df-a1f0-d9bf24c94f85",
   "metadata": {},
   "outputs": [],
   "source": []
  },
  {
   "attachments": {},
   "cell_type": "markdown",
   "id": "c445f366-71e1-48ed-b296-f26944add6aa",
   "metadata": {},
   "source": [
    "#### Interpretation: \n",
    "#### Intercept (232.281405): predicted value of the `brain weight` (dependent variable) when all the independent variables (x) are zero.\n",
    "#### -22.543254: This coefficient is associated with the second independent variable, which might be `Age Range`. A `negative` value suggests that an increase in this variable decreases the` brain weight` by about 22.54 grams.\n",
    "#### -23.968445:  This coefficient corresponds to Head Size (cm³). A `negative` coefficient here means that as the `head size` increases, `brain weight` slightly decreases by about 23.97 grams per unit increase in head size\n",
    "#### 0.244212: This coefficient might also be associated with `Gender` variable. A `positive` value of 0.24 suggests that the brain weight increases by about 0.24 grams for each one-unit increase in this variable\n",
    "\n",
    "#### The intercept shows the baseline brain weight when all other variables are zero.\n",
    "#### Positive coefficients indicate that the variable increases brain weight.\n",
    "#### Negative coefficients suggest that the variable reduces brain weight.\n"
   ]
  },
  {
   "cell_type": "code",
   "execution_count": null,
   "id": "c776f0b0-0776-437e-8407-d521f352541a",
   "metadata": {},
   "outputs": [],
   "source": []
  },
  {
   "cell_type": "code",
   "execution_count": null,
   "id": "2cb50bb4-0378-45a6-be45-4286c4cc0782",
   "metadata": {},
   "outputs": [],
   "source": []
  },
  {
   "cell_type": "markdown",
   "id": "2158702c-c1c4-4d79-a700-a742dd4dc447",
   "metadata": {},
   "source": [
    "# Making Predictions Based on the Existing Dataset:"
   ]
  },
  {
   "cell_type": "code",
   "execution_count": 100,
   "id": "48f84b2d-4f51-49e9-907f-15883e7d9590",
   "metadata": {},
   "outputs": [
    {
     "name": "stdout",
     "output_type": "stream",
     "text": [
      "Predicted Brain Weight for the first entry: 1519.93 grams\n"
     ]
    }
   ],
   "source": [
    "predictions = results.predict(x)\n",
    "# Display the first prediction\n",
    "print(f\"Predicted Brain Weight for the first entry: {predictions[0]:.2f} grams\")"
   ]
  },
  {
   "cell_type": "code",
   "execution_count": null,
   "id": "cb58fb88-4b8a-4c06-b9db-03f58cafd4e7",
   "metadata": {},
   "outputs": [],
   "source": []
  },
  {
   "cell_type": "code",
   "execution_count": null,
   "id": "8279f657-cd3a-43da-b163-46db0c797fa5",
   "metadata": {},
   "outputs": [],
   "source": []
  },
  {
   "cell_type": "markdown",
   "id": "c568d32f-ebd6-4ce9-86ee-81914570ee0f",
   "metadata": {},
   "source": [
    "# Evaluating the Model Performance:"
   ]
  },
  {
   "cell_type": "markdown",
   "id": "06e85587-55fc-457b-90c4-1f231f8fc1c2",
   "metadata": {},
   "source": [
    "### To evaluate how well the model performs on the dataset, check metrics like R-squared or use a test set for more robust evaluation."
   ]
  },
  {
   "cell_type": "code",
   "execution_count": 101,
   "id": "275c2cab-b9f8-4182-bdb3-a695baf6ad2a",
   "metadata": {},
   "outputs": [
    {
     "name": "stdout",
     "output_type": "stream",
     "text": [
      "R-squared: 0.6528346387526653\n"
     ]
    }
   ],
   "source": [
    "# R-squared Value: Shows the proportion of variance explained by the model.\n",
    "r_squared = results.rsquared\n",
    "print(f\"R-squared: {r_squared}\")"
   ]
  },
  {
   "cell_type": "code",
   "execution_count": null,
   "id": "e1989cda-bcf1-4171-bca4-4153b24b894a",
   "metadata": {},
   "outputs": [],
   "source": []
  },
  {
   "cell_type": "code",
   "execution_count": null,
   "id": "b18e9030-0d79-4e25-a63a-c9c06ca0ce35",
   "metadata": {},
   "outputs": [],
   "source": []
  },
  {
   "cell_type": "markdown",
   "id": "0bd19feb-c449-4c90-9585-955e89b0f633",
   "metadata": {},
   "source": [
    "# Visualizing the Results:"
   ]
  },
  {
   "cell_type": "code",
   "execution_count": 77,
   "id": "1b0fbe52-abfb-45f5-b3a0-18351b07a753",
   "metadata": {},
   "outputs": [
    {
     "data": {
      "image/png": "[encoded data removed]",
      "text/plain": [
       "<Figure size 640x480 with 1 Axes>"
      ]
     },
     "metadata": {},
     "output_type": "display_data"
    }
   ],
   "source": [
    "# Scatter plot between Head Size and Brain Weight\n",
    "plt.scatter(df['Head Size(cm^3)'], df['Brain Weight(grams)'], color='blue', label='Actual Data')\n",
    "plt.plot(df['Head Size(cm^3)'], results.fittedvalues, color='red', label='Fitted Line')\n",
    "plt.xlabel('Head Size (cm^3)')\n",
    "plt.ylabel('Brain Weight (grams)')\n",
    "plt.title('Head Size vs Brain Weight')\n",
    "plt.legend()\n",
    "plt.show()"
   ]
  },
  {
   "cell_type": "code",
   "execution_count": null,
   "id": "27ba64ca-5b6d-4b2c-bcd3-eee3f71a0c79",
   "metadata": {},
   "outputs": [],
   "source": []
  },
  {
   "cell_type": "markdown",
   "id": "3ac4d387-0339-48ee-a197-d285f92785f9",
   "metadata": {},
   "source": [
    "### Key Insights:\n",
    "### Positive Correlation: The fitted line slopes upward, suggesting a positive correlation between head size and brain weight. As head size increases, brain weight tends to increase as well.\n",
    "### Spread of Data: While the data points cluster around the red fitted line, there is considerable spread, indicating some variability in brain weight that may not be fully explained by head size alone. This is common, as brain weight is likely influenced by other factors (e.g., gender, age, etc.).\n",
    "### Model Fit: The relatively good alignment of the fitted line with the data suggests that the model captures the general trend in the relationship between head size and brain weight, though the scatter of points shows that the model does not perfectly explain all the variance in brain weight."
   ]
  },
  {
   "cell_type": "code",
   "execution_count": null,
   "id": "d3ad7dfb-0c41-4862-94f7-e2ee4a938908",
   "metadata": {},
   "outputs": [],
   "source": []
  },
  {
   "cell_type": "code",
   "execution_count": null,
   "id": "4c1be40b-a729-422b-bc48-6d84adbfd7bb",
   "metadata": {},
   "outputs": [],
   "source": []
  },
  {
   "cell_type": "code",
   "execution_count": null,
   "id": "122e907a-105e-4daf-adef-7f9a0fc2c8d0",
   "metadata": {},
   "outputs": [],
   "source": []
  }
 ],
 "metadata": {
  "kernelspec": {
   "display_name": "Python 3 (ipykernel)",
   "language": "python",
   "name": "python3"
  },
  "language_info": {
   "codemirror_mode": {
    "name": "ipython",
    "version": 3
   },
   "file_extension": ".py",
   "mimetype": "text/x-python",
   "name": "python",
   "nbconvert_exporter": "python",
   "pygments_lexer": "ipython3",
   "version": "3.12.3"
  }
 },
 "nbformat": 4,
 "nbformat_minor": 5
}
